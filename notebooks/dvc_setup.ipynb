{
 "cells": [
  {
   "cell_type": "code",
   "execution_count": 1,
   "id": "0a0e0cf6",
   "metadata": {},
   "outputs": [
    {
     "name": "stdout",
     "output_type": "stream",
     "text": [
      "d:\\insurance_risk_analytics\n",
      "Requirement already satisfied: dvc in .\\venv\\lib\\site-packages (3.60.0)\n",
      "Requirement already satisfied: attrs>=22.2.0 in .\\venv\\lib\\site-packages (from dvc) (25.3.0)\n",
      "Requirement already satisfied: celery in .\\venv\\lib\\site-packages (from dvc) (5.5.3)\n",
      "Requirement already satisfied: colorama>=0.3.9 in .\\venv\\lib\\site-packages (from dvc) (0.4.6)\n",
      "Requirement already satisfied: configobj>=5.0.9 in .\\venv\\lib\\site-packages (from dvc) (5.0.9)\n",
      "Requirement already satisfied: distro>=1.3 in .\\venv\\lib\\site-packages (from dvc) (1.9.0)\n",
      "Requirement already satisfied: dpath<3,>=2.1.0 in .\\venv\\lib\\site-packages (from dvc) (2.2.0)\n",
      "Requirement already satisfied: dulwich in .\\venv\\lib\\site-packages (from dvc) (0.22.8)\n",
      "Requirement already satisfied: dvc-data<3.17,>=3.16.2 in .\\venv\\lib\\site-packages (from dvc) (3.16.10)\n",
      "Requirement already satisfied: dvc-http>=2.29.0 in .\\venv\\lib\\site-packages (from dvc) (2.32.0)\n",
      "Requirement already satisfied: dvc-objects in .\\venv\\lib\\site-packages (from dvc) (5.1.1)\n",
      "Requirement already satisfied: dvc-render<2,>=1.0.1 in .\\venv\\lib\\site-packages (from dvc) (1.0.2)\n",
      "Requirement already satisfied: dvc-studio-client<1,>=0.21 in .\\venv\\lib\\site-packages (from dvc) (0.21.0)\n",
      "Requirement already satisfied: dvc-task<1,>=0.3.0 in .\\venv\\lib\\site-packages (from dvc) (0.40.2)\n",
      "Requirement already satisfied: flatten_dict<1,>=0.4.1 in .\\venv\\lib\\site-packages (from dvc) (0.4.2)\n",
      "Requirement already satisfied: flufl.lock<9,>=8.1.0 in .\\venv\\lib\\site-packages (from dvc) (8.2.0)\n",
      "Requirement already satisfied: fsspec>=2024.2.0 in .\\venv\\lib\\site-packages (from dvc) (2025.5.1)\n",
      "Requirement already satisfied: funcy>=1.14 in .\\venv\\lib\\site-packages (from dvc) (2.0)\n",
      "Requirement already satisfied: grandalf<1,>=0.7 in .\\venv\\lib\\site-packages (from dvc) (0.8)\n",
      "Requirement already satisfied: gto<2,>=1.6.0 in .\\venv\\lib\\site-packages (from dvc) (1.7.2)\n",
      "Requirement already satisfied: hydra-core>=1.1 in .\\venv\\lib\\site-packages (from dvc) (1.3.2)\n",
      "Requirement already satisfied: iterative-telemetry>=0.0.7 in .\\venv\\lib\\site-packages (from dvc) (0.0.10)\n",
      "Requirement already satisfied: kombu in .\\venv\\lib\\site-packages (from dvc) (5.5.4)\n",
      "Requirement already satisfied: networkx>=2.5 in .\\venv\\lib\\site-packages (from dvc) (3.5)\n",
      "Requirement already satisfied: omegaconf in .\\venv\\lib\\site-packages (from dvc) (2.3.0)\n",
      "Requirement already satisfied: packaging>=19 in .\\venv\\lib\\site-packages (from dvc) (25.0)\n",
      "Requirement already satisfied: pathspec>=0.10.3 in .\\venv\\lib\\site-packages (from dvc) (0.12.1)\n",
      "Requirement already satisfied: platformdirs<5,>=3.1.1 in .\\venv\\lib\\site-packages (from dvc) (4.3.8)\n",
      "Requirement already satisfied: psutil>=5.8 in .\\venv\\lib\\site-packages (from dvc) (7.0.0)\n",
      "Requirement already satisfied: pydot>=1.2.4 in .\\venv\\lib\\site-packages (from dvc) (4.0.0)\n",
      "Requirement already satisfied: pygtrie>=2.3.2 in .\\venv\\lib\\site-packages (from dvc) (2.5.0)\n",
      "Requirement already satisfied: pyparsing>=2.4.7 in .\\venv\\lib\\site-packages (from dvc) (3.2.3)\n",
      "Requirement already satisfied: requests>=2.22 in .\\venv\\lib\\site-packages (from dvc) (2.32.4)\n",
      "Requirement already satisfied: rich>=12 in .\\venv\\lib\\site-packages (from dvc) (14.0.0)\n",
      "Requirement already satisfied: ruamel.yaml>=0.17.11 in .\\venv\\lib\\site-packages (from dvc) (0.18.14)\n",
      "Requirement already satisfied: scmrepo<4,>=3.3.8 in .\\venv\\lib\\site-packages (from dvc) (3.3.11)\n",
      "Requirement already satisfied: shortuuid>=0.5 in .\\venv\\lib\\site-packages (from dvc) (1.0.13)\n",
      "Requirement already satisfied: shtab<2,>=1.3.4 in .\\venv\\lib\\site-packages (from dvc) (1.7.2)\n",
      "Requirement already satisfied: tabulate>=0.8.7 in .\\venv\\lib\\site-packages (from dvc) (0.9.0)\n",
      "Requirement already satisfied: tomlkit>=0.11.1 in .\\venv\\lib\\site-packages (from dvc) (0.13.3)\n",
      "Requirement already satisfied: tqdm<5,>=4.63.1 in .\\venv\\lib\\site-packages (from dvc) (4.67.1)\n",
      "Requirement already satisfied: voluptuous>=0.11.7 in .\\venv\\lib\\site-packages (from dvc) (0.15.2)\n",
      "Requirement already satisfied: zc.lockfile>=1.2.1 in .\\venv\\lib\\site-packages (from dvc) (3.0.post1)\n",
      "Requirement already satisfied: dictdiffer>=0.8.1 in .\\venv\\lib\\site-packages (from dvc-data<3.17,>=3.16.2->dvc) (0.9.0)\n",
      "Requirement already satisfied: diskcache>=5.2.1 in .\\venv\\lib\\site-packages (from dvc-data<3.17,>=3.16.2->dvc) (5.6.3)\n",
      "Requirement already satisfied: sqltrie<1,>=0.11.0 in .\\venv\\lib\\site-packages (from dvc-data<3.17,>=3.16.2->dvc) (0.11.2)\n",
      "Requirement already satisfied: orjson<4,>=3 in .\\venv\\lib\\site-packages (from dvc-data<3.17,>=3.16.2->dvc) (3.10.18)\n",
      "Requirement already satisfied: aiohttp-retry>=2.5.0 in .\\venv\\lib\\site-packages (from dvc-http>=2.29.0->dvc) (2.9.1)\n",
      "Requirement already satisfied: pywin32>=225 in .\\venv\\lib\\site-packages (from dvc-task<1,>=0.3.0->dvc) (310)\n",
      "Requirement already satisfied: billiard<5.0,>=4.2.1 in .\\venv\\lib\\site-packages (from celery->dvc) (4.2.1)\n",
      "Requirement already satisfied: vine<6.0,>=5.1.0 in .\\venv\\lib\\site-packages (from celery->dvc) (5.1.0)\n",
      "Requirement already satisfied: click<9.0,>=8.1.2 in .\\venv\\lib\\site-packages (from celery->dvc) (8.2.1)\n",
      "Requirement already satisfied: click-didyoumean>=0.3.0 in .\\venv\\lib\\site-packages (from celery->dvc) (0.3.1)\n",
      "Requirement already satisfied: click-repl>=0.2.0 in .\\venv\\lib\\site-packages (from celery->dvc) (0.3.0)\n",
      "Requirement already satisfied: click-plugins>=1.1.1 in .\\venv\\lib\\site-packages (from celery->dvc) (1.1.1)\n",
      "Requirement already satisfied: python-dateutil>=2.8.2 in .\\venv\\lib\\site-packages (from celery->dvc) (2.9.0.post0)\n",
      "Requirement already satisfied: six<2.0,>=1.12 in .\\venv\\lib\\site-packages (from flatten_dict<1,>=0.4.1->dvc) (1.17.0)\n",
      "Requirement already satisfied: atpublic in .\\venv\\lib\\site-packages (from flufl.lock<9,>=8.1.0->dvc) (6.0.1)\n",
      "Requirement already satisfied: entrypoints in .\\venv\\lib\\site-packages (from gto<2,>=1.6.0->dvc) (0.4)\n",
      "Requirement already satisfied: pydantic!=2.0.0,<3,>=1.9.0 in .\\venv\\lib\\site-packages (from gto<2,>=1.6.0->dvc) (2.11.5)\n",
      "Requirement already satisfied: semver>=2.13.0 in .\\venv\\lib\\site-packages (from gto<2,>=1.6.0->dvc) (3.0.4)\n",
      "Requirement already satisfied: typer>=0.4.1 in .\\venv\\lib\\site-packages (from gto<2,>=1.6.0->dvc) (0.16.0)\n",
      "Requirement already satisfied: antlr4-python3-runtime==4.9.* in .\\venv\\lib\\site-packages (from hydra-core>=1.1->dvc) (4.9.3)\n",
      "Requirement already satisfied: appdirs in .\\venv\\lib\\site-packages (from iterative-telemetry>=0.0.7->dvc) (1.4.4)\n",
      "Requirement already satisfied: filelock in .\\venv\\lib\\site-packages (from iterative-telemetry>=0.0.7->dvc) (3.18.0)\n",
      "Requirement already satisfied: amqp<6.0.0,>=5.1.1 in .\\venv\\lib\\site-packages (from kombu->dvc) (5.3.1)\n",
      "Requirement already satisfied: tzdata>=2025.2 in .\\venv\\lib\\site-packages (from kombu->dvc) (2025.2)\n",
      "Requirement already satisfied: PyYAML>=5.1.0 in .\\venv\\lib\\site-packages (from omegaconf->dvc) (6.0.2)\n",
      "Requirement already satisfied: charset_normalizer<4,>=2 in .\\venv\\lib\\site-packages (from requests>=2.22->dvc) (3.4.2)\n",
      "Requirement already satisfied: idna<4,>=2.5 in .\\venv\\lib\\site-packages (from requests>=2.22->dvc) (3.10)\n",
      "Requirement already satisfied: urllib3<3,>=1.21.1 in .\\venv\\lib\\site-packages (from requests>=2.22->dvc) (2.4.0)\n",
      "Requirement already satisfied: certifi>=2017.4.17 in .\\venv\\lib\\site-packages (from requests>=2.22->dvc) (2025.4.26)\n",
      "Requirement already satisfied: markdown-it-py>=2.2.0 in .\\venv\\lib\\site-packages (from rich>=12->dvc) (3.0.0)\n",
      "Requirement already satisfied: pygments<3.0.0,>=2.13.0 in .\\venv\\lib\\site-packages (from rich>=12->dvc) (2.19.1)\n",
      "Requirement already satisfied: ruamel.yaml.clib>=0.2.7 in .\\venv\\lib\\site-packages (from ruamel.yaml>=0.17.11->dvc) (0.2.12)\n",
      "Requirement already satisfied: gitpython>3 in .\\venv\\lib\\site-packages (from scmrepo<4,>=3.3.8->dvc) (3.1.44)\n",
      "Requirement already satisfied: pygit2>=1.14.0 in .\\venv\\lib\\site-packages (from scmrepo<4,>=3.3.8->dvc) (1.18.0)\n",
      "Requirement already satisfied: asyncssh<3,>=2.13.1 in .\\venv\\lib\\site-packages (from scmrepo<4,>=3.3.8->dvc) (2.21.0)\n",
      "Requirement already satisfied: setuptools in .\\venv\\lib\\site-packages (from zc.lockfile>=1.2.1->dvc) (65.5.0)\n",
      "Requirement already satisfied: aiohttp in .\\venv\\lib\\site-packages (from aiohttp-retry>=2.5.0->dvc-http>=2.29.0->dvc) (3.12.12)\n",
      "Requirement already satisfied: cryptography>=39.0 in .\\venv\\lib\\site-packages (from asyncssh<3,>=2.13.1->scmrepo<4,>=3.3.8->dvc) (45.0.4)\n",
      "Requirement already satisfied: typing_extensions>=4.0.0 in .\\venv\\lib\\site-packages (from asyncssh<3,>=2.13.1->scmrepo<4,>=3.3.8->dvc) (4.14.0)\n",
      "Requirement already satisfied: prompt-toolkit>=3.0.36 in .\\venv\\lib\\site-packages (from click-repl>=0.2.0->celery->dvc) (3.0.51)\n",
      "Requirement already satisfied: gitdb<5,>=4.0.1 in .\\venv\\lib\\site-packages (from gitpython>3->scmrepo<4,>=3.3.8->dvc) (4.0.12)\n",
      "Requirement already satisfied: mdurl~=0.1 in .\\venv\\lib\\site-packages (from markdown-it-py>=2.2.0->rich>=12->dvc) (0.1.2)\n",
      "Requirement already satisfied: annotated-types>=0.6.0 in .\\venv\\lib\\site-packages (from pydantic!=2.0.0,<3,>=1.9.0->gto<2,>=1.6.0->dvc) (0.7.0)\n",
      "Requirement already satisfied: pydantic-core==2.33.2 in .\\venv\\lib\\site-packages (from pydantic!=2.0.0,<3,>=1.9.0->gto<2,>=1.6.0->dvc) (2.33.2)\n",
      "Requirement already satisfied: typing-inspection>=0.4.0 in .\\venv\\lib\\site-packages (from pydantic!=2.0.0,<3,>=1.9.0->gto<2,>=1.6.0->dvc) (0.4.1)\n",
      "Requirement already satisfied: cffi>=1.17.0 in .\\venv\\lib\\site-packages (from pygit2>=1.14.0->scmrepo<4,>=3.3.8->dvc) (1.17.1)\n",
      "Requirement already satisfied: shellingham>=1.3.0 in .\\venv\\lib\\site-packages (from typer>=0.4.1->gto<2,>=1.6.0->dvc) (1.5.4)\n",
      "Requirement already satisfied: aiohappyeyeballs>=2.5.0 in .\\venv\\lib\\site-packages (from aiohttp->aiohttp-retry>=2.5.0->dvc-http>=2.29.0->dvc) (2.6.1)\n",
      "Requirement already satisfied: aiosignal>=1.1.2 in .\\venv\\lib\\site-packages (from aiohttp->aiohttp-retry>=2.5.0->dvc-http>=2.29.0->dvc) (1.3.2)\n",
      "Requirement already satisfied: frozenlist>=1.1.1 in .\\venv\\lib\\site-packages (from aiohttp->aiohttp-retry>=2.5.0->dvc-http>=2.29.0->dvc) (1.7.0)\n",
      "Requirement already satisfied: multidict<7.0,>=4.5 in .\\venv\\lib\\site-packages (from aiohttp->aiohttp-retry>=2.5.0->dvc-http>=2.29.0->dvc) (6.4.4)\n",
      "Requirement already satisfied: propcache>=0.2.0 in .\\venv\\lib\\site-packages (from aiohttp->aiohttp-retry>=2.5.0->dvc-http>=2.29.0->dvc) (0.3.2)\n",
      "Requirement already satisfied: yarl<2.0,>=1.17.0 in .\\venv\\lib\\site-packages (from aiohttp->aiohttp-retry>=2.5.0->dvc-http>=2.29.0->dvc) (1.20.1)\n",
      "Requirement already satisfied: pycparser in .\\venv\\lib\\site-packages (from cffi>=1.17.0->pygit2>=1.14.0->scmrepo<4,>=3.3.8->dvc) (2.22)\n",
      "Requirement already satisfied: smmap<6,>=3.0.1 in .\\venv\\lib\\site-packages (from gitdb<5,>=4.0.1->gitpython>3->scmrepo<4,>=3.3.8->dvc) (5.0.2)\n",
      "Requirement already satisfied: wcwidth in .\\venv\\lib\\site-packages (from prompt-toolkit>=3.0.36->click-repl>=0.2.0->celery->dvc) (0.2.13)\n"
     ]
    },
    {
     "name": "stderr",
     "output_type": "stream",
     "text": [
      "\n",
      "[notice] A new release of pip available: 22.3.1 -> 25.1.1\n",
      "[notice] To update, run: python.exe -m pip install --upgrade pip\n",
      "ERROR: failed to initiate DVC - '.dvc' exists. Use `-f` to force.\n"
     ]
    },
    {
     "name": "stdout",
     "output_type": "stream",
     "text": [
      "\n",
      "To track the changes with git, run:\n",
      "\n",
      "\tgit add insurance_data.txt.dvc\n",
      "\n",
      "To enable auto staging, run:\n",
      "\n",
      "\tdvc config core.autostage true\n"
     ]
    },
    {
     "name": "stderr",
     "output_type": "stream",
     "text": [
      "⠋ Checking graph\n",
      "\n"
     ]
    },
    {
     "name": "stdout",
     "output_type": "stream",
     "text": [
      "[task-eda c478422] Tracked data with DVC\n",
      " 2 files changed, 8 insertions(+)\n",
      " create mode 100644 .dvc/.gitignore\n",
      " create mode 100644 insurance_data.txt.dvc\n"
     ]
    },
    {
     "name": "stderr",
     "output_type": "stream",
     "text": [
      "error: Your local changes to the following files would be overwritten by checkout:\n",
      "\tnotebooks/eda.ipynb\n",
      "Please commit your changes or stash them before you switch branches.\n",
      "Aborting\n",
      "Everything up-to-date\n"
     ]
    }
   ],
   "source": [
    "# Cell 1: Navigate to repository root\n",
    "%cd d:\\insurance_risk_analytics\n",
    "\n",
    "# Cell 2: Install DVC\n",
    "!pip install dvc\n",
    "\n",
    "# Cell 3: Initialize DVC\n",
    "!dvc init --subdir\n",
    "\n",
    "# Cell 4: Track data with DVC\n",
    "!dvc add insurance_data.txt\n",
    "\n",
    "# Cell 5: Commit DVC files\n",
    "!git add insurance_data.txt.dvc .dvc/.gitignore\n",
    "!git commit -m \"Tracked data with DVC\"\n",
    "\n",
    "# Cell 6: Push changes\n",
    "!git checkout task-dvc\n",
    "!git push origin task-dvc"
   ]
  }
 ],
 "metadata": {
  "kernelspec": {
   "display_name": "venv",
   "language": "python",
   "name": "python3"
  },
  "language_info": {
   "codemirror_mode": {
    "name": "ipython",
    "version": 3
   },
   "file_extension": ".py",
   "mimetype": "text/x-python",
   "name": "python",
   "nbconvert_exporter": "python",
   "pygments_lexer": "ipython3",
   "version": "3.11.1"
  }
 },
 "nbformat": 4,
 "nbformat_minor": 5
}
